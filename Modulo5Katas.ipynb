{
 "cells": [
  {
   "cell_type": "code",
   "execution_count": 21,
   "metadata": {},
   "outputs": [],
   "source": [
    "Tierra = 149597870\n",
    "Jupiter = 778547200\n",
    "millas = 0.621"
   ]
  },
  {
   "cell_type": "code",
   "execution_count": 22,
   "metadata": {},
   "outputs": [
    {
     "name": "stdout",
     "output_type": "stream",
     "text": [
      "La distancia entre la Tierra y Jupiter es de: 628949330  km/h\n",
      "La distancia entre la Tierra y Jupiter es de: 390577533.93  mph\n"
     ]
    }
   ],
   "source": [
    "Distancia = Jupiter - Tierra\n",
    "Mph = Distancia * millas\n",
    "print('La distancia entre la Tierra y Jupiter es de: ' +  str(Distancia) + '  km/h')\n",
    "print('La distancia entre la Tierra y Jupiter es de: ' +  str(Mph) + '  mph')"
   ]
  },
  {
   "cell_type": "code",
   "execution_count": 39,
   "metadata": {},
   "outputs": [],
   "source": [
    "planeta1 = input('Introduzca la distancia del sol para el primer planeta')\n",
    "planeta2 = input('Introduzca la distancia del sol para el segundo planeta')"
   ]
  },
  {
   "cell_type": "code",
   "execution_count": 40,
   "metadata": {},
   "outputs": [],
   "source": [
    "planeta1 = int(planeta1)\n",
    "planeta2 = int(planeta2)"
   ]
  },
  {
   "cell_type": "code",
   "execution_count": 47,
   "metadata": {},
   "outputs": [
    {
     "name": "stdout",
     "output_type": "stream",
     "text": [
      "4437200000  km/h\n",
      "2755501200.0 mph\n"
     ]
    }
   ],
   "source": [
    "distancia_km = planeta1 - planeta2\n",
    "print(str(distancia_km) + '  km/h')\n",
    "\n",
    "distancia_mph = distancia_km * 0.621\n",
    "print(str(abs(distancia_mph))+ ' mph')"
   ]
  }
 ],
 "metadata": {
  "interpreter": {
   "hash": "70cdcc6dde9bc65d38db11eb2649af4ea5f561181bfe6e6e7d0784975e6ff505"
  },
  "kernelspec": {
   "display_name": "Python 3.9.10 64-bit (windows store)",
   "name": "python3"
  },
  "language_info": {
   "codemirror_mode": {
    "name": "ipython",
    "version": 3
   },
   "file_extension": ".py",
   "mimetype": "text/x-python",
   "name": "python",
   "nbconvert_exporter": "python",
   "pygments_lexer": "ipython3",
   "version": "3.9.10"
  },
  "orig_nbformat": 4
 },
 "nbformat": 4,
 "nbformat_minor": 2
}
