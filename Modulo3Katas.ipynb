{
 "cells": [
  {
   "cell_type": "code",
   "execution_count": 6,
   "metadata": {},
   "outputs": [
    {
     "name": "stdout",
     "output_type": "stream",
     "text": [
      "¡El asteroide se acerca a la tierra demasiado rapido!\n"
     ]
    }
   ],
   "source": [
    "advertencia = 25\n",
    "asteroide = 49\n",
    "if asteroide > advertencia:\n",
    "    print('¡El asteroide se acerca a la tierra demasiado rapido!')\n",
    "else:\n",
    "    print('¡La tierra se encuentra a salvo!')\n"
   ]
  },
  {
   "cell_type": "code",
   "execution_count": 15,
   "metadata": {},
   "outputs": [
    {
     "name": "stdout",
     "output_type": "stream",
     "text": [
      "¡Quizas a la siguiente puedas ver los rayos magicos de luz :(\n"
     ]
    }
   ],
   "source": [
    "asteroide = 19\n",
    "if asteroide > 20:\n",
    "    print('¡Puedes salir a observar los rayos de magicos en el cielo!')\n",
    "elif asteroide == 20:\n",
    "    print('¡Puedes salir a observar los rayos de magicos en el cielo!')\n",
    "else:    \n",
    "    print('¡Quizas a la siguiente puedas ver los rayos magicos de luz :(')\n"
   ]
  },
  {
   "cell_type": "code",
   "execution_count": 20,
   "metadata": {},
   "outputs": [
    {
     "name": "stdout",
     "output_type": "stream",
     "text": [
      "¡Cuidado un Asteroide muy peligroso esta en camino a la tierra!\n"
     ]
    }
   ],
   "source": [
    "velocidad_asteroide = 30\n",
    "tamano_asteroide = 60\n",
    "\n",
    "if velocidad_asteroide > 25 and tamano_asteroide > 25:\n",
    "    print('¡Cuidado un Asteroide muy peligroso esta en camino a la tierra!')\n",
    "elif velocidad_asteroide >=20:\n",
    "    print('¡Puedes salir a observar los rayos de magicos en el cielo!')\n",
    "elif tamano_asteroide < 25:\n",
    "    print('No hay nada aqui')\n",
    "else:\n",
    "    print('No hay nada aqui')\n"
   ]
  }
 ],
 "metadata": {
  "interpreter": {
   "hash": "70cdcc6dde9bc65d38db11eb2649af4ea5f561181bfe6e6e7d0784975e6ff505"
  },
  "kernelspec": {
   "display_name": "Python 3.9.10 64-bit (windows store)",
   "name": "python3"
  },
  "language_info": {
   "codemirror_mode": {
    "name": "ipython",
    "version": 3
   },
   "file_extension": ".py",
   "mimetype": "text/x-python",
   "name": "python",
   "nbconvert_exporter": "python",
   "pygments_lexer": "ipython3",
   "version": "3.9.10"
  },
  "orig_nbformat": 4
 },
 "nbformat": 4,
 "nbformat_minor": 2
}
